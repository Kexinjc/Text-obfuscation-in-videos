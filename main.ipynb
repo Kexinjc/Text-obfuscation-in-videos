{
 "cells": [
  {
   "cell_type": "code",
   "execution_count": 8,
   "id": "4f9164d5",
   "metadata": {},
   "outputs": [
    {
     "ename": "NoSuchOption",
     "evalue": "No such option: -f",
     "output_type": "error",
     "traceback": [
      "\u001b[1;31m---------------------------------------------------------------------------\u001b[0m",
      "\u001b[1;31mNoSuchOption\u001b[0m                              Traceback (most recent call last)",
      "File \u001b[1;32m~\\anaconda3\\Lib\\site-packages\\click\\parser.py:514\u001b[0m, in \u001b[0;36mOptionParser._process_opts\u001b[1;34m(self, arg, state)\u001b[0m\n\u001b[0;32m    513\u001b[0m \u001b[38;5;28;01mtry\u001b[39;00m:\n\u001b[1;32m--> 514\u001b[0m     \u001b[38;5;28mself\u001b[39m\u001b[38;5;241m.\u001b[39m_match_long_opt(norm_long_opt, explicit_value, state)\n\u001b[0;32m    515\u001b[0m \u001b[38;5;28;01mexcept\u001b[39;00m NoSuchOption:\n\u001b[0;32m    516\u001b[0m     \u001b[38;5;66;03m# At this point the long option matching failed, and we need\u001b[39;00m\n\u001b[0;32m    517\u001b[0m     \u001b[38;5;66;03m# to try with short options.  However there is a special rule\u001b[39;00m\n\u001b[1;32m   (...)\u001b[0m\n\u001b[0;32m    520\u001b[0m     \u001b[38;5;66;03m# short option code and will instead raise the no option\u001b[39;00m\n\u001b[0;32m    521\u001b[0m     \u001b[38;5;66;03m# error.\u001b[39;00m\n",
      "File \u001b[1;32m~\\anaconda3\\Lib\\site-packages\\click\\parser.py:398\u001b[0m, in \u001b[0;36mOptionParser._match_long_opt\u001b[1;34m(self, opt, explicit_value, state)\u001b[0m\n\u001b[0;32m    397\u001b[0m     possibilities \u001b[38;5;241m=\u001b[39m get_close_matches(opt, \u001b[38;5;28mself\u001b[39m\u001b[38;5;241m.\u001b[39m_long_opt)\n\u001b[1;32m--> 398\u001b[0m     \u001b[38;5;28;01mraise\u001b[39;00m NoSuchOption(opt, possibilities\u001b[38;5;241m=\u001b[39mpossibilities, ctx\u001b[38;5;241m=\u001b[39m\u001b[38;5;28mself\u001b[39m\u001b[38;5;241m.\u001b[39mctx)\n\u001b[0;32m    400\u001b[0m option \u001b[38;5;241m=\u001b[39m \u001b[38;5;28mself\u001b[39m\u001b[38;5;241m.\u001b[39m_long_opt[opt]\n",
      "\u001b[1;31mNoSuchOption\u001b[0m: No such option: -f",
      "\nDuring handling of the above exception, another exception occurred:\n",
      "\u001b[1;31mNoSuchOption\u001b[0m                              Traceback (most recent call last)",
      "Cell \u001b[1;32mIn[8], line 22\u001b[0m\n\u001b[0;32m     16\u001b[0m tesseract_api \u001b[38;5;241m=\u001b[39m PyTesseractAPI(tesseract_path\u001b[38;5;241m=\u001b[39m\u001b[38;5;124mr\u001b[39m\u001b[38;5;124m'\u001b[39m\u001b[38;5;124mC:\u001b[39m\u001b[38;5;124m\\\u001b[39m\u001b[38;5;124mProgram Files\u001b[39m\u001b[38;5;124m\\\u001b[39m\u001b[38;5;124mTesseract-OCR\u001b[39m\u001b[38;5;124m\\\u001b[39m\u001b[38;5;124mtesseract.exe\u001b[39m\u001b[38;5;124m'\u001b[39m)\n\u001b[0;32m     17\u001b[0m \u001b[38;5;66;03m# tesseract_api = PyTesseractAPI(tesseract_path='/opt/homebrew/bin/tesseract')\u001b[39;00m\n\u001b[0;32m     18\u001b[0m \u001b[38;5;66;03m# tesseract_api = PyTesseractAPI()\u001b[39;00m\n\u001b[0;32m     19\u001b[0m \n\u001b[0;32m     20\u001b[0m \u001b[38;5;66;03m# TODO: replace with your image path for now until CLI is ready\u001b[39;00m\n\u001b[0;32m     21\u001b[0m \u001b[38;5;66;03m# img = cv2.imread('intranet_master2.png')\u001b[39;00m\n\u001b[1;32m---> 22\u001b[0m img \u001b[38;5;241m=\u001b[39m read_image(standalone_mode\u001b[38;5;241m=\u001b[39m\u001b[38;5;28;01mFalse\u001b[39;00m)\n\u001b[0;32m     23\u001b[0m ocr_data \u001b[38;5;241m=\u001b[39m tesseract_api\u001b[38;5;241m.\u001b[39mrecognize_text(img)\n\u001b[0;32m     24\u001b[0m \u001b[38;5;28mprint\u001b[39m(ocr_data)\n",
      "File \u001b[1;32m~\\anaconda3\\Lib\\site-packages\\click\\core.py:1128\u001b[0m, in \u001b[0;36mBaseCommand.__call__\u001b[1;34m(self, *args, **kwargs)\u001b[0m\n\u001b[0;32m   1126\u001b[0m \u001b[38;5;28;01mdef\u001b[39;00m \u001b[38;5;21m__call__\u001b[39m(\u001b[38;5;28mself\u001b[39m, \u001b[38;5;241m*\u001b[39margs: t\u001b[38;5;241m.\u001b[39mAny, \u001b[38;5;241m*\u001b[39m\u001b[38;5;241m*\u001b[39mkwargs: t\u001b[38;5;241m.\u001b[39mAny) \u001b[38;5;241m-\u001b[39m\u001b[38;5;241m>\u001b[39m t\u001b[38;5;241m.\u001b[39mAny:\n\u001b[0;32m   1127\u001b[0m \u001b[38;5;250m    \u001b[39m\u001b[38;5;124;03m\"\"\"Alias for :meth:`main`.\"\"\"\u001b[39;00m\n\u001b[1;32m-> 1128\u001b[0m     \u001b[38;5;28;01mreturn\u001b[39;00m \u001b[38;5;28mself\u001b[39m\u001b[38;5;241m.\u001b[39mmain(\u001b[38;5;241m*\u001b[39margs, \u001b[38;5;241m*\u001b[39m\u001b[38;5;241m*\u001b[39mkwargs)\n",
      "File \u001b[1;32m~\\anaconda3\\Lib\\site-packages\\click\\core.py:1052\u001b[0m, in \u001b[0;36mBaseCommand.main\u001b[1;34m(self, args, prog_name, complete_var, standalone_mode, windows_expand_args, **extra)\u001b[0m\n\u001b[0;32m   1050\u001b[0m \u001b[38;5;28;01mtry\u001b[39;00m:\n\u001b[0;32m   1051\u001b[0m     \u001b[38;5;28;01mtry\u001b[39;00m:\n\u001b[1;32m-> 1052\u001b[0m         \u001b[38;5;28;01mwith\u001b[39;00m \u001b[38;5;28mself\u001b[39m\u001b[38;5;241m.\u001b[39mmake_context(prog_name, args, \u001b[38;5;241m*\u001b[39m\u001b[38;5;241m*\u001b[39mextra) \u001b[38;5;28;01mas\u001b[39;00m ctx:\n\u001b[0;32m   1053\u001b[0m             rv \u001b[38;5;241m=\u001b[39m \u001b[38;5;28mself\u001b[39m\u001b[38;5;241m.\u001b[39minvoke(ctx)\n\u001b[0;32m   1054\u001b[0m             \u001b[38;5;28;01mif\u001b[39;00m \u001b[38;5;129;01mnot\u001b[39;00m standalone_mode:\n",
      "File \u001b[1;32m~\\anaconda3\\Lib\\site-packages\\click\\core.py:914\u001b[0m, in \u001b[0;36mBaseCommand.make_context\u001b[1;34m(self, info_name, args, parent, **extra)\u001b[0m\n\u001b[0;32m    909\u001b[0m ctx \u001b[38;5;241m=\u001b[39m \u001b[38;5;28mself\u001b[39m\u001b[38;5;241m.\u001b[39mcontext_class(\n\u001b[0;32m    910\u001b[0m     \u001b[38;5;28mself\u001b[39m, info_name\u001b[38;5;241m=\u001b[39minfo_name, parent\u001b[38;5;241m=\u001b[39mparent, \u001b[38;5;241m*\u001b[39m\u001b[38;5;241m*\u001b[39mextra  \u001b[38;5;66;03m# type: ignore\u001b[39;00m\n\u001b[0;32m    911\u001b[0m )\n\u001b[0;32m    913\u001b[0m \u001b[38;5;28;01mwith\u001b[39;00m ctx\u001b[38;5;241m.\u001b[39mscope(cleanup\u001b[38;5;241m=\u001b[39m\u001b[38;5;28;01mFalse\u001b[39;00m):\n\u001b[1;32m--> 914\u001b[0m     \u001b[38;5;28mself\u001b[39m\u001b[38;5;241m.\u001b[39mparse_args(ctx, args)\n\u001b[0;32m    915\u001b[0m \u001b[38;5;28;01mreturn\u001b[39;00m ctx\n",
      "File \u001b[1;32m~\\anaconda3\\Lib\\site-packages\\click\\core.py:1367\u001b[0m, in \u001b[0;36mCommand.parse_args\u001b[1;34m(self, ctx, args)\u001b[0m\n\u001b[0;32m   1364\u001b[0m     ctx\u001b[38;5;241m.\u001b[39mexit()\n\u001b[0;32m   1366\u001b[0m parser \u001b[38;5;241m=\u001b[39m \u001b[38;5;28mself\u001b[39m\u001b[38;5;241m.\u001b[39mmake_parser(ctx)\n\u001b[1;32m-> 1367\u001b[0m opts, args, param_order \u001b[38;5;241m=\u001b[39m parser\u001b[38;5;241m.\u001b[39mparse_args(args\u001b[38;5;241m=\u001b[39margs)\n\u001b[0;32m   1369\u001b[0m \u001b[38;5;28;01mfor\u001b[39;00m param \u001b[38;5;129;01min\u001b[39;00m iter_params_for_processing(param_order, \u001b[38;5;28mself\u001b[39m\u001b[38;5;241m.\u001b[39mget_params(ctx)):\n\u001b[0;32m   1370\u001b[0m     value, args \u001b[38;5;241m=\u001b[39m param\u001b[38;5;241m.\u001b[39mhandle_parse_result(ctx, opts, args)\n",
      "File \u001b[1;32m~\\anaconda3\\Lib\\site-packages\\click\\parser.py:337\u001b[0m, in \u001b[0;36mOptionParser.parse_args\u001b[1;34m(self, args)\u001b[0m\n\u001b[0;32m    335\u001b[0m state \u001b[38;5;241m=\u001b[39m ParsingState(args)\n\u001b[0;32m    336\u001b[0m \u001b[38;5;28;01mtry\u001b[39;00m:\n\u001b[1;32m--> 337\u001b[0m     \u001b[38;5;28mself\u001b[39m\u001b[38;5;241m.\u001b[39m_process_args_for_options(state)\n\u001b[0;32m    338\u001b[0m     \u001b[38;5;28mself\u001b[39m\u001b[38;5;241m.\u001b[39m_process_args_for_args(state)\n\u001b[0;32m    339\u001b[0m \u001b[38;5;28;01mexcept\u001b[39;00m UsageError:\n",
      "File \u001b[1;32m~\\anaconda3\\Lib\\site-packages\\click\\parser.py:364\u001b[0m, in \u001b[0;36mOptionParser._process_args_for_options\u001b[1;34m(self, state)\u001b[0m\n\u001b[0;32m    362\u001b[0m     \u001b[38;5;28;01mreturn\u001b[39;00m\n\u001b[0;32m    363\u001b[0m \u001b[38;5;28;01melif\u001b[39;00m arg[:\u001b[38;5;241m1\u001b[39m] \u001b[38;5;129;01min\u001b[39;00m \u001b[38;5;28mself\u001b[39m\u001b[38;5;241m.\u001b[39m_opt_prefixes \u001b[38;5;129;01mand\u001b[39;00m arglen \u001b[38;5;241m>\u001b[39m \u001b[38;5;241m1\u001b[39m:\n\u001b[1;32m--> 364\u001b[0m     \u001b[38;5;28mself\u001b[39m\u001b[38;5;241m.\u001b[39m_process_opts(arg, state)\n\u001b[0;32m    365\u001b[0m \u001b[38;5;28;01melif\u001b[39;00m \u001b[38;5;28mself\u001b[39m\u001b[38;5;241m.\u001b[39mallow_interspersed_args:\n\u001b[0;32m    366\u001b[0m     state\u001b[38;5;241m.\u001b[39mlargs\u001b[38;5;241m.\u001b[39mappend(arg)\n",
      "File \u001b[1;32m~\\anaconda3\\Lib\\site-packages\\click\\parser.py:523\u001b[0m, in \u001b[0;36mOptionParser._process_opts\u001b[1;34m(self, arg, state)\u001b[0m\n\u001b[0;32m    515\u001b[0m \u001b[38;5;28;01mexcept\u001b[39;00m NoSuchOption:\n\u001b[0;32m    516\u001b[0m     \u001b[38;5;66;03m# At this point the long option matching failed, and we need\u001b[39;00m\n\u001b[0;32m    517\u001b[0m     \u001b[38;5;66;03m# to try with short options.  However there is a special rule\u001b[39;00m\n\u001b[1;32m   (...)\u001b[0m\n\u001b[0;32m    520\u001b[0m     \u001b[38;5;66;03m# short option code and will instead raise the no option\u001b[39;00m\n\u001b[0;32m    521\u001b[0m     \u001b[38;5;66;03m# error.\u001b[39;00m\n\u001b[0;32m    522\u001b[0m     \u001b[38;5;28;01mif\u001b[39;00m arg[:\u001b[38;5;241m2\u001b[39m] \u001b[38;5;129;01mnot\u001b[39;00m \u001b[38;5;129;01min\u001b[39;00m \u001b[38;5;28mself\u001b[39m\u001b[38;5;241m.\u001b[39m_opt_prefixes:\n\u001b[1;32m--> 523\u001b[0m         \u001b[38;5;28mself\u001b[39m\u001b[38;5;241m.\u001b[39m_match_short_opt(arg, state)\n\u001b[0;32m    524\u001b[0m         \u001b[38;5;28;01mreturn\u001b[39;00m\n\u001b[0;32m    526\u001b[0m     \u001b[38;5;28;01mif\u001b[39;00m \u001b[38;5;129;01mnot\u001b[39;00m \u001b[38;5;28mself\u001b[39m\u001b[38;5;241m.\u001b[39mignore_unknown_options:\n",
      "File \u001b[1;32m~\\anaconda3\\Lib\\site-packages\\click\\parser.py:436\u001b[0m, in \u001b[0;36mOptionParser._match_short_opt\u001b[1;34m(self, arg, state)\u001b[0m\n\u001b[0;32m    434\u001b[0m         unknown_options\u001b[38;5;241m.\u001b[39mappend(ch)\n\u001b[0;32m    435\u001b[0m         \u001b[38;5;28;01mcontinue\u001b[39;00m\n\u001b[1;32m--> 436\u001b[0m     \u001b[38;5;28;01mraise\u001b[39;00m NoSuchOption(opt, ctx\u001b[38;5;241m=\u001b[39m\u001b[38;5;28mself\u001b[39m\u001b[38;5;241m.\u001b[39mctx)\n\u001b[0;32m    437\u001b[0m \u001b[38;5;28;01mif\u001b[39;00m option\u001b[38;5;241m.\u001b[39mtakes_value:\n\u001b[0;32m    438\u001b[0m     \u001b[38;5;66;03m# Any characters left in arg?  Pretend they're the\u001b[39;00m\n\u001b[0;32m    439\u001b[0m     \u001b[38;5;66;03m# next arg, and stop consuming characters of arg.\u001b[39;00m\n\u001b[0;32m    440\u001b[0m     \u001b[38;5;28;01mif\u001b[39;00m i \u001b[38;5;241m<\u001b[39m \u001b[38;5;28mlen\u001b[39m(arg):\n",
      "\u001b[1;31mNoSuchOption\u001b[0m: No such option: -f"
     ]
    }
   ],
   "source": [
    "import cv2\n",
    "from analyser.analyser import OCRAnalyser\n",
    "from ocr.api import PyTesseractAPI\n",
    "import numpy as np\n",
    "import click\n",
    "\n",
    "# TODO: Create CLI\n",
    "\n",
    "@click.command()\n",
    "@click.option('--image', help='Path to the image to obfuscate', required=True)\n",
    "def read_image(image: str) -> np.ndarray:\n",
    "    return cv2.imread(image)\n",
    "\n",
    "if __name__ == \"__main__\":\n",
    "    # TODO: write your path to tesseract executable\n",
    "    tesseract_api = PyTesseractAPI(tesseract_path=r'C:\\Program Files\\Tesseract-OCR\\tesseract.exe')\n",
    "    # tesseract_api = PyTesseractAPI(tesseract_path='/opt/homebrew/bin/tesseract')\n",
    "    # tesseract_api = PyTesseractAPI()\n",
    "\n",
    "    # TODO: replace with your image path for now until CLI is ready\n",
    "    # img = cv2.imread('intranet_master2.png')\n",
    "    img = read_image(standalone_mode=False)\n",
    "    ocr_data = tesseract_api.recognize_text(img)\n",
    "    print(ocr_data)\n",
    "\n",
    "    analyser = OCRAnalyser(register_default_recognisers=False)\n",
    "    words = analyser.analyse_text(ocr_data, \"es\")\n",
    "    print(words)\n",
    "    sensitive_words = [word for sublist in words for word in sublist.words]\n",
    "    print(sensitive_words)\n",
    "\n",
    "    ocr_data_dict = tesseract_api.recognise_text_to_data(img)\n",
    "    \n",
    "    ### TODO: Rewrite\n",
    "    n_boxes = len(ocr_data_dict['level'])\n",
    "    for i in range(n_boxes):\n",
    "        text_2 = ocr_data_dict['text'][i]\n",
    "        (x, y, w, h) = (ocr_data_dict['left'][i], ocr_data_dict['top'][i], ocr_data_dict['width'][i], ocr_data_dict['height'][i])\n",
    "\n",
    "        if any(sensitive_word in text_2 for sensitive_word in sensitive_words):\n",
    "            roi = img[y:y+h, x:x+w]\n",
    "            blurred_roi = cv2.GaussianBlur(roi, (15, 15), 30)\n",
    "            img[y:y+h, x:x+w] = blurred_roi\n",
    "\n",
    "    # TODO: replace with your path to save the obfuscated image\n",
    "    obfuscated_image_path = 'obfuscated_image2.jpg'\n",
    "    cv2.imwrite(obfuscated_image_path, img)\n",
    "    ###\n"
   ]
  },
  {
   "cell_type": "code",
   "execution_count": 7,
   "id": "9b36b256",
   "metadata": {},
   "outputs": [
    {
     "name": "stdout",
     "output_type": "stream",
     "text": [
      "Collecting osarch\n",
      "  Obtaining dependency information for osarch from https://files.pythonhosted.org/packages/df/78/41274320c30860a8346782424410085728296758dc8c92db9fda8ec8e118/osarch-0.0.2-py3-none-any.whl.metadata\n",
      "  Downloading osarch-0.0.2-py3-none-any.whl.metadata (1.9 kB)\n",
      "Using cached osarch-0.0.2-py3-none-any.whl (3.6 kB)\n",
      "Installing collected packages: osarch\n",
      "Successfully installed osarch-0.0.2\n"
     ]
    }
   ],
   "source": [
    "!pip install osarch"
   ]
  }
 ],
 "metadata": {
  "kernelspec": {
   "display_name": "Python 3 (ipykernel)",
   "language": "python",
   "name": "python3"
  },
  "language_info": {
   "codemirror_mode": {
    "name": "ipython",
    "version": 3
   },
   "file_extension": ".py",
   "mimetype": "text/x-python",
   "name": "python",
   "nbconvert_exporter": "python",
   "pygments_lexer": "ipython3",
   "version": "3.11.4"
  }
 },
 "nbformat": 4,
 "nbformat_minor": 5
}
